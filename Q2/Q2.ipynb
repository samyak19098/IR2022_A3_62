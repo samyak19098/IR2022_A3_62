{
 "cells": [
  {
   "cell_type": "code",
   "execution_count": 124,
   "metadata": {},
   "outputs": [],
   "source": [
    "import numpy as np\n",
    "import pandas as pd\n",
    "import matplotlib.pyplot as plt\n",
    "from tqdm import tqdm\n",
    "import networkx as nx\n",
    "from collections import Counter\n",
    "import seaborn as sbn\n"
   ]
  },
  {
   "cell_type": "code",
   "execution_count": 125,
   "metadata": {},
   "outputs": [],
   "source": [
    "# Reading the Dataset\n",
    "\n",
    "data_file = open('../data/Wiki-Vote.txt', 'r')\n",
    "lines = data_file.readlines()"
   ]
  },
  {
   "cell_type": "code",
   "execution_count": 126,
   "metadata": {},
   "outputs": [],
   "source": [
    "#placing the pointer at the start of edge list in the list of lines read from dataset text file\n",
    "start_ptr = 0\n",
    "for i in range(len(lines)):\n",
    "    if(lines[i][0] == '#'):\n",
    "        start_ptr += 1"
   ]
  },
  {
   "cell_type": "code",
   "execution_count": 127,
   "metadata": {},
   "outputs": [],
   "source": [
    "#forming the set of NodeID present in the graph\n",
    "node_set = set()\n",
    "for i in range(start_ptr, len(lines)):\n",
    "    split1 = lines[i].split('\\t')\n",
    "    node1 = int(split1[0])\n",
    "    node2 = int(split1[1][:(len(split1[1]) - 1)])\n",
    "    node_set.add(node1)\n",
    "    node_set.add(node2)"
   ]
  },
  {
   "cell_type": "code",
   "execution_count": 128,
   "metadata": {},
   "outputs": [],
   "source": [
    "num_nodes = len(node_set) #number of nodes"
   ]
  },
  {
   "cell_type": "code",
   "execution_count": 129,
   "metadata": {},
   "outputs": [],
   "source": [
    "#NodeIDs are not continuous so we assign a unique integer number to each node. The numbers are continuous and in range [0, (number_of_nodes - 1)]\n",
    "node_num = 0\n",
    "node_id_to_num = {} #nodeID to node_number mapping [each nodeID is assigned a unique node_number, node_number range from 0 to (number_of_nodes - 1)]\n",
    "node_num_to_id = {} #node_number to nodeID mapping\n",
    "for node_id in node_set:\n",
    "    node_id_to_num[node_id] = node_num\n",
    "    node_num_to_id[node_num] = node_id\n",
    "    node_num += 1"
   ]
  },
  {
   "cell_type": "code",
   "execution_count": 130,
   "metadata": {},
   "outputs": [],
   "source": [
    "#forming edge list, will use this to create graph using networkx\n",
    "edge_list = [] #list of edges\n",
    "for i in range(start_ptr, len(lines)): #reading the edges from txt file lines\n",
    "    split1 = lines[i].split('\\t')\n",
    "    node1_id = int(split1[0]) #nodeID_1 (From NodeID)\n",
    "    node2_id = int(split1[1][:(len(split1[1]) - 1)]) #nodeID_2 (To NodeID)\n",
    "    node1_num = node_id_to_num[node1_id] #get node_num for the nodeID\n",
    "    node2_num = node_id_to_num[node2_id] #get node_num for the nodeID\n",
    "    edge_list.append([node1_num, node2_num]) #adding edge to edgelist"
   ]
  },
  {
   "cell_type": "markdown",
   "metadata": {},
   "source": [
    "Forming Graph"
   ]
  },
  {
   "cell_type": "code",
   "execution_count": 131,
   "metadata": {},
   "outputs": [],
   "source": [
    "G = nx.DiGraph() #making a directed graph from edge list\n",
    "G.add_nodes_from(node_id_to_num.values()) #adding nodes to graph\n",
    "G.add_edges_from(edge_list) #adding edges to graph"
   ]
  },
  {
   "cell_type": "markdown",
   "metadata": {},
   "source": [
    "Pagerank Scores"
   ]
  },
  {
   "cell_type": "code",
   "execution_count": 132,
   "metadata": {},
   "outputs": [],
   "source": [
    "pagerank_scores = nx.pagerank(G) #computing pagerank scores "
   ]
  },
  {
   "cell_type": "code",
   "execution_count": 133,
   "metadata": {},
   "outputs": [],
   "source": [
    "#uncomment to print \n",
    "# print(f\"PageRank Scores :\\n{pagerank_scores}\")"
   ]
  },
  {
   "cell_type": "markdown",
   "metadata": {},
   "source": [
    "Hubs and Authorities Scores"
   ]
  },
  {
   "cell_type": "code",
   "execution_count": 134,
   "metadata": {},
   "outputs": [],
   "source": [
    "#HITS algorithm\n",
    "hits_results = nx.hits(G)\n",
    "hubs = hits_results[0] #hubs_scores\n",
    "authorities = hits_results[1] #authorities score"
   ]
  },
  {
   "cell_type": "code",
   "execution_count": 135,
   "metadata": {},
   "outputs": [],
   "source": [
    "#uncomment to print \n",
    "# print(f\"Hubs Scores :\\n{hubs_scores}\")"
   ]
  },
  {
   "cell_type": "code",
   "execution_count": 136,
   "metadata": {},
   "outputs": [],
   "source": [
    "#uncomment to print \n",
    "# print(f\"Authorities Scores :\\n{hubs_scores}\")"
   ]
  },
  {
   "cell_type": "markdown",
   "metadata": {},
   "source": [
    "Analyzing top pagerank score, authorities score and hubs score nodes"
   ]
  },
  {
   "cell_type": "code",
   "execution_count": 137,
   "metadata": {},
   "outputs": [],
   "source": [
    "tops_pagerank_by_node_num = sorted(pagerank_scores.items(), key=lambda x: x[1], reverse=True)\n",
    "tops_hubs_by_node_num = sorted(hubs.items(), key=lambda x: x[1], reverse=True)\n",
    "tops_auth_by_node_num = sorted(authorities.items(), key=lambda x: x[1], reverse=True)\n",
    "\n",
    "tops_pagerank_node_ids = [(node_num_to_id[x[0]], x[1]) for x in tops_pagerank_by_node_num]\n",
    "tops_hubs_node_ids = [(node_num_to_id[x[0]], x[1]) for x in tops_hubs_by_node_num]\n",
    "tops_auth_node_ids = [(node_num_to_id[x[0]], x[1]) for x in tops_auth_by_node_num]"
   ]
  },
  {
   "cell_type": "code",
   "execution_count": 138,
   "metadata": {},
   "outputs": [
    {
     "name": "stdout",
     "output_type": "stream",
     "text": [
      "Top 10 NodeIDs based on PageRank score\n"
     ]
    },
    {
     "data": {
      "text/plain": [
       "[(4037, 0.004612715891167541),\n",
       " (15, 0.00368122072952927),\n",
       " (6634, 0.003524813657640256),\n",
       " (2625, 0.003286374369230901),\n",
       " (2398, 0.0026053331717250175),\n",
       " (2470, 0.002530105328384948),\n",
       " (2237, 0.0025047038004839886),\n",
       " (4191, 0.0022662633042363433),\n",
       " (7553, 0.0021701850491959575),\n",
       " (5254, 0.0021500675059293213)]"
      ]
     },
     "execution_count": 138,
     "metadata": {},
     "output_type": "execute_result"
    }
   ],
   "source": [
    "print(\"Top 10 NodeIDs based on PageRank score\")\n",
    "tops_pagerank_node_ids[:10] #top 10 nodeIDs by pagerank scores"
   ]
  },
  {
   "cell_type": "code",
   "execution_count": 139,
   "metadata": {},
   "outputs": [
    {
     "name": "stdout",
     "output_type": "stream",
     "text": [
      "Top 10 NodeIDs based on Authority score\n"
     ]
    },
    {
     "data": {
      "text/plain": [
       "[(2398, 0.002580147178008873),\n",
       " (4037, 0.0025732411242297922),\n",
       " (3352, 0.002328415091497681),\n",
       " (1549, 0.002303731480457178),\n",
       " (762, 0.0022558748562871386),\n",
       " (3089, 0.0022534066884511636),\n",
       " (1297, 0.0022501446366627194),\n",
       " (2565, 0.0022235641039536113),\n",
       " (15, 0.00220154349256558),\n",
       " (2625, 0.0021978968034030706)]"
      ]
     },
     "execution_count": 139,
     "metadata": {},
     "output_type": "execute_result"
    }
   ],
   "source": [
    "print(\"Top 10 NodeIDs based on Authority score\")\n",
    "tops_auth_node_ids[:10] #top 10 nodeIDs by authority scores"
   ]
  },
  {
   "cell_type": "code",
   "execution_count": 140,
   "metadata": {},
   "outputs": [
    {
     "name": "stdout",
     "output_type": "stream",
     "text": [
      "Top 10 NodeIDs based on Hub score\n"
     ]
    },
    {
     "data": {
      "text/plain": [
       "[(2565, 0.007940492708143142),\n",
       " (766, 0.007574335297501249),\n",
       " (2688, 0.0064402489910298615),\n",
       " (457, 0.006416870490261073),\n",
       " (1166, 0.006010567902411201),\n",
       " (1549, 0.0057207540582692425),\n",
       " (11, 0.0049211820638081025),\n",
       " (1151, 0.0045720407017564085),\n",
       " (1374, 0.00446788879271111),\n",
       " (1133, 0.003918881732057349)]"
      ]
     },
     "execution_count": 140,
     "metadata": {},
     "output_type": "execute_result"
    }
   ],
   "source": [
    "print(\"Top 10 NodeIDs based on Hub score\")\n",
    "tops_hubs_node_ids[:10] #top 10 nodeIDs by hub scores"
   ]
  },
  {
   "cell_type": "markdown",
   "metadata": {},
   "source": [
    "Distribution plots"
   ]
  },
  {
   "cell_type": "code",
   "execution_count": 141,
   "metadata": {},
   "outputs": [],
   "source": [
    "def plot_distribution(distribution, xlabel, ylabel, title, save=False):\n",
    "    '''\n",
    "        Function to plot distributions\n",
    "    '''\n",
    "    distribution_sorted = sorted(distribution.items(), key= lambda x:x[0])\n",
    "    # print(max(distribution_sorted, key=lambda x : x[1]))\n",
    "    plt_x = [x[0] for x in distribution_sorted]\n",
    "    plt_y = [y[1] for y in distribution_sorted]\n",
    "    plt.plot(plt_x, plt_y)\n",
    "    plt.xlabel(xlabel)\n",
    "    plt.ylabel(ylabel)\n",
    "    plt.title(title)\n",
    "    if(save == True):\n",
    "        plt.savefig(f\"{title}.png\", bbox_inches='tight', facecolor='w')\n",
    "    plt.show()"
   ]
  },
  {
   "cell_type": "code",
   "execution_count": 142,
   "metadata": {},
   "outputs": [],
   "source": [
    "def plot_rugplot(scores_values, xlabel, title, save=False):\n",
    "    '''\n",
    "        Function to plot rugplot\n",
    "    '''\n",
    "\n",
    "    sbn.rugplot(scores_values)\n",
    "    plt.xlabel(xlabel)\n",
    "    plt.title(title)\n",
    "    if(save==True):\n",
    "        plt.savefig(f\"{title}.png\", bbox_inches='tight', facecolor='w')\n",
    "    plt.show()\n"
   ]
  },
  {
   "cell_type": "code",
   "execution_count": 143,
   "metadata": {},
   "outputs": [],
   "source": [
    "pagerank_distribution = dict(Counter(list(pagerank_scores.values())))\n",
    "hubs_distribution = dict(Counter(list(hubs.values())))\n",
    "auth_distribution = dict(Counter(list(authorities.values())))"
   ]
  },
  {
   "cell_type": "code",
   "execution_count": 144,
   "metadata": {},
   "outputs": [
    {
     "data": {
      "image/png": "[encoded data removed]",
      "text/plain": [
       "<Figure size 432x288 with 1 Axes>"
      ]
     },
     "metadata": {
      "needs_background": "light"
     },
     "output_type": "display_data"
    },
    {
     "data": {
      "image/png": "[encoded data removed]",
      "text/plain": [
       "<Figure size 432x288 with 1 Axes>"
      ]
     },
     "metadata": {
      "needs_background": "light"
     },
     "output_type": "display_data"
    }
   ],
   "source": [
    "plot_distribution(pagerank_distribution, 'PageRank scores', 'frequency', 'PageRank_distribution', save=True)\n",
    "plot_rugplot(pagerank_scores.values(), 'PageRank scores', 'PageRank_rugplot', save=True)"
   ]
  },
  {
   "cell_type": "code",
   "execution_count": 145,
   "metadata": {},
   "outputs": [
    {
     "data": {
      "image/png": "[encoded data removed]",
      "text/plain": [
       "<Figure size 432x288 with 1 Axes>"
      ]
     },
     "metadata": {
      "needs_background": "light"
     },
     "output_type": "display_data"
    },
    {
     "data": {
      "image/png": "[encoded data removed]",
      "text/plain": [
       "<Figure size 432x288 with 1 Axes>"
      ]
     },
     "metadata": {
      "needs_background": "light"
     },
     "output_type": "display_data"
    }
   ],
   "source": [
    "plot_distribution(hubs_distribution, 'Hub scores', 'frequency', 'Hub_distribution', save=True)\n",
    "plot_rugplot(hubs.values(), 'Hub scores', 'Hub_rugplot', save=True)"
   ]
  },
  {
   "cell_type": "code",
   "execution_count": 146,
   "metadata": {},
   "outputs": [
    {
     "data": {
      "image/png": "[encoded data removed]",
      "text/plain": [
       "<Figure size 432x288 with 1 Axes>"
      ]
     },
     "metadata": {
      "needs_background": "light"
     },
     "output_type": "display_data"
    },
    {
     "data": {
      "image/png": "[encoded data removed]",
      "text/plain": [
       "<Figure size 432x288 with 1 Axes>"
      ]
     },
     "metadata": {
      "needs_background": "light"
     },
     "output_type": "display_data"
    }
   ],
   "source": [
    "plot_distribution(auth_distribution, 'Authority scores', 'frequency', 'Authority_distribution', save=True)\n",
    "plot_rugplot(authorities.values(), 'Authority scores', 'Authority_rugplot', save=True)"
   ]
  }
 ],
 "metadata": {
  "interpreter": {
   "hash": "2370e07001db70a9c24f7e21173c51fbc4321340913a02830aed4885459fa0a0"
  },
  "kernelspec": {
   "display_name": "Python 3.8.10 64-bit",
   "language": "python",
   "name": "python3"
  },
  "language_info": {
   "codemirror_mode": {
    "name": "ipython",
    "version": 3
   },
   "file_extension": ".py",
   "mimetype": "text/x-python",
   "name": "python",
   "nbconvert_exporter": "python",
   "pygments_lexer": "ipython3",
   "version": "3.8.10"
  },
  "orig_nbformat": 4
 },
 "nbformat": 4,
 "nbformat_minor": 2
}
