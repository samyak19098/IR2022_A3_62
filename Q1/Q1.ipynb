{
 "cells": [
  {
   "cell_type": "code",
   "execution_count": 166,
   "metadata": {},
   "outputs": [],
   "source": [
    "import numpy as np\n",
    "import pandas as pd\n",
    "import matplotlib.pyplot as plt\n",
    "import nltk\n",
    "from tqdm import tqdm"
   ]
  },
  {
   "cell_type": "code",
   "execution_count": 167,
   "metadata": {},
   "outputs": [],
   "source": [
    "data_file = open('../data/Wiki-Vote.txt', 'r')\n",
    "lines = data_file.readlines()"
   ]
  },
  {
   "cell_type": "code",
   "execution_count": 168,
   "metadata": {},
   "outputs": [],
   "source": [
    "# num_nodes = 7115"
   ]
  },
  {
   "cell_type": "code",
   "execution_count": 169,
   "metadata": {},
   "outputs": [],
   "source": [
    "start_ptr = 0\n",
    "for i in range(len(lines)):\n",
    "    if(lines[i][0] == '#'):\n",
    "        start_ptr += 1"
   ]
  },
  {
   "cell_type": "code",
   "execution_count": 170,
   "metadata": {},
   "outputs": [],
   "source": [
    "node_set = set()\n",
    "for i in range(start_ptr, len(lines)):\n",
    "    split1 = lines[i].split('\\t')\n",
    "    node1 = int(split1[0])\n",
    "    node2 = int(split1[1][:(len(split1[1]) - 1)])\n",
    "    node_set.add(node1)\n",
    "    node_set.add(node2)"
   ]
  },
  {
   "cell_type": "code",
   "execution_count": 171,
   "metadata": {},
   "outputs": [],
   "source": [
    "num_nodes = len(node_set)"
   ]
  },
  {
   "cell_type": "code",
   "execution_count": 172,
   "metadata": {},
   "outputs": [],
   "source": [
    "node_num = 0\n",
    "node_id_to_num = {}\n",
    "node_num_to_id = {}\n",
    "for node_id in node_set:\n",
    "    node_id_to_num[node_id] = node_num\n",
    "    node_num_to_id[node_num] = node_id\n",
    "    node_num += 1"
   ]
  },
  {
   "cell_type": "markdown",
   "metadata": {},
   "source": [
    "Edge List and Adjacency matrix\n"
   ]
  },
  {
   "cell_type": "code",
   "execution_count": 173,
   "metadata": {},
   "outputs": [],
   "source": [
    "edge_list = []\n",
    "adjacency_matrix = np.zeros((num_nodes, num_nodes))\n",
    "for i in range(start_ptr, len(lines)):\n",
    "    split1 = lines[i].split('\\t')\n",
    "    node1_id = int(split1[0])\n",
    "    node2_id = int(split1[1][:(len(split1[1]) - 1)])\n",
    "    node1_num = node_id_to_num[node1_id]\n",
    "    node2_num = node_id_to_num[node2_id]\n",
    "    edge_list.append([node1_num, node2_num])\n",
    "    adjacency_matrix[node1_num][node2_num] = 1"
   ]
  },
  {
   "cell_type": "code",
   "execution_count": 174,
   "metadata": {},
   "outputs": [],
   "source": [
    "num_edges = len(edge_list)"
   ]
  },
  {
   "cell_type": "code",
   "execution_count": 175,
   "metadata": {},
   "outputs": [],
   "source": [
    "incoming_edges = np.sum(adjacency_matrix, axis=0)\n",
    "in_degrees = {node_num:in_deg for node_num, in_deg in enumerate(incoming_edges)}    \n",
    "outgoing_edges = np.sum(adjacency_matrix, axis=1)\n",
    "out_degrees = {node_num:out_deg for node_num, out_deg in enumerate(outgoing_edges)}"
   ]
  },
  {
   "cell_type": "code",
   "execution_count": 176,
   "metadata": {},
   "outputs": [
    {
     "data": {
      "text/plain": [
       "array([ 31.,   0.,   0., ..., 118.,  14.,  42.])"
      ]
     },
     "execution_count": 176,
     "metadata": {},
     "output_type": "execute_result"
    }
   ],
   "source": [
    "incoming_edges"
   ]
  },
  {
   "cell_type": "code",
   "execution_count": 177,
   "metadata": {},
   "outputs": [
    {
     "data": {
      "text/plain": [
       "array([23., 29., 23., ...,  0.,  0.,  0.])"
      ]
     },
     "execution_count": 177,
     "metadata": {},
     "output_type": "execute_result"
    }
   ],
   "source": [
    "outgoing_edges"
   ]
  },
  {
   "cell_type": "code",
   "execution_count": 178,
   "metadata": {},
   "outputs": [],
   "source": [
    "avg_in_degree = np.average(incoming_edges)\n",
    "avg_out_degree = np.average(outgoing_edges)\n",
    "max_in_degree_node_id = node_num_to_id[max(in_degrees, key= lambda x: in_degrees[x])]\n",
    "max_in_degree = in_degrees[node_id_to_num[max_in_degree_node_id]]\n",
    "max_out_degree_node_id = node_num_to_id[max(out_degrees, key= lambda x: out_degrees[x])]\n",
    "max_out_degree = out_degrees[node_id_to_num[max_out_degree_node_id]]\n",
    "total_possible_edges = (num_nodes * (num_nodes - 1))/2\n",
    "network_density = num_edges / total_possible_edges"
   ]
  },
  {
   "cell_type": "code",
   "execution_count": 179,
   "metadata": {},
   "outputs": [
    {
     "name": "stdout",
     "output_type": "stream",
     "text": [
      "14.573295853829936\n",
      "14.573295853829936\n"
     ]
    }
   ],
   "source": [
    "print(avg_in_degree)\n",
    "print(avg_out_degree)"
   ]
  },
  {
   "cell_type": "code",
   "execution_count": 180,
   "metadata": {},
   "outputs": [
    {
     "name": "stdout",
     "output_type": "stream",
     "text": [
      "For the network based on chosen dataset :\n",
      "-> Number of Nodes  : 7115\n",
      "-> Number of edges  : 103689\n",
      "-> Avg. In-Degree   : 14.573295853829936\n",
      "-> Avg. Out-Degree  : 14.573295853829936\n",
      "-> Max In-Deg Node  : Node ID - 4037 | In-Degree = 457.0\n",
      "-> Max Out-Deg Node : Node ID - 2565 | Out-Degree = 893.0\n",
      "-> Network Density  : 0.004097075022161917\n"
     ]
    }
   ],
   "source": [
    "print(\"For the network based on chosen dataset :\" + \"\\n\" \\\n",
    "    f\"-> Number of Nodes  : {num_nodes}\" + \"\\n\" \\\n",
    "    f\"-> Number of edges  : {num_edges}\" + \"\\n\" \\\n",
    "    f\"-> Avg. In-Degree   : {avg_in_degree}\"+ \"\\n\" \\\n",
    "    f\"-> Avg. Out-Degree  : {avg_out_degree}\"+ \"\\n\" \\\n",
    "    f\"-> Max In-Deg Node  : Node ID - {max_in_degree_node_id} | In-Degree = {max_in_degree}\"+ \"\\n\" \\\n",
    "    f\"-> Max Out-Deg Node : Node ID - {max_out_degree_node_id} | Out-Degree = {max_out_degree}\"+ \"\\n\" \\\n",
    "    f\"-> Network Density  : {network_density}\")"
   ]
  },
  {
   "cell_type": "markdown",
   "metadata": {},
   "source": [
    "Local Clustering Coeff"
   ]
  },
  {
   "cell_type": "code",
   "execution_count": 181,
   "metadata": {},
   "outputs": [],
   "source": [
    "und_adjacency_matrix = np.zeros((num_nodes, num_nodes))\n",
    "for edge in edge_list:\n",
    "    node1_num = edge[0]\n",
    "    node2_num = edge[1]\n",
    "    und_adjacency_matrix[node1_num][node2_num] = 1\n",
    "    und_adjacency_matrix[node2_num][node1_num] = 1"
   ]
  },
  {
   "cell_type": "code",
   "execution_count": 182,
   "metadata": {},
   "outputs": [],
   "source": [
    "a, b = np.unique(und_adjacency_matrix, return_counts=True)"
   ]
  },
  {
   "cell_type": "code",
   "execution_count": null,
   "metadata": {},
   "outputs": [],
   "source": []
  },
  {
   "cell_type": "code",
   "execution_count": 183,
   "metadata": {},
   "outputs": [
    {
     "name": "stderr",
     "output_type": "stream",
     "text": [
      "100%|██████████| 7115/7115 [00:46<00:00, 152.80it/s]\n"
     ]
    }
   ],
   "source": [
    "neighbours = {}\n",
    "local_clustering_coeff = {}\n",
    "\n",
    "for node in tqdm(range(num_nodes)):\n",
    "    neighbourhood_set = set()\n",
    "    for j in range(num_nodes):\n",
    "        if(und_adjacency_matrix[node][j] == 1):\n",
    "            neighbourhood_set.add(j)\n",
    "    neighbours[node] = neighbourhood_set\n",
    "    num_neighbours = len(neighbourhood_set)\n",
    "    # print(f\"Node {node} | Neighbours {num_neighbours}\")\n",
    "    num_neighbourhood_links = 0\n",
    "    for neighbour in neighbourhood_set:\n",
    "        for j in neighbourhood_set:\n",
    "            if(j != neighbour and und_adjacency_matrix[neighbour][j]):\n",
    "                num_neighbourhood_links += 1\n",
    "    # print(f\"Node {node} | Neighbours {num_neighbours} | links = {num_neighbourhood_links}\")\n",
    "    if(num_neighbourhood_links == 0):\n",
    "        local_clustering_coeff_node = 0\n",
    "    else:\n",
    "        local_clustering_coeff_node = num_neighbourhood_links / ((num_neighbours * (num_neighbours - 1)) / 2)\n",
    "    local_clustering_coeff[node] = local_clustering_coeff_node\n",
    "\n",
    "            \n"
   ]
  }
 ],
 "metadata": {
  "interpreter": {
   "hash": "2370e07001db70a9c24f7e21173c51fbc4321340913a02830aed4885459fa0a0"
  },
  "kernelspec": {
   "display_name": "Python 3.8.10 64-bit",
   "language": "python",
   "name": "python3"
  },
  "language_info": {
   "codemirror_mode": {
    "name": "ipython",
    "version": 3
   },
   "file_extension": ".py",
   "mimetype": "text/x-python",
   "name": "python",
   "nbconvert_exporter": "python",
   "pygments_lexer": "ipython3",
   "version": "3.8.10"
  },
  "orig_nbformat": 4
 },
 "nbformat": 4,
 "nbformat_minor": 2
}
